{
  "nbformat": 4,
  "nbformat_minor": 0,
  "metadata": {
    "colab": {
      "name": "ceaser.ipynb",
      "version": "0.3.2",
      "provenance": []
    },
    "kernelspec": {
      "name": "python3",
      "display_name": "Python 3"
    }
  },
  "cells": [
    {
      "cell_type": "markdown",
      "metadata": {
        "id": "Nydgy6WsV7nI",
        "colab_type": "text"
      },
      "source": [
        "## Encoding and Decoding using Ceaser"
      ]
    },
    {
      "cell_type": "code",
      "metadata": {
        "id": "9jnq4Zf9VER-",
        "colab_type": "code",
        "colab": {}
      },
      "source": [
        "def add(a,b):\n",
        "    return a+b"
      ],
      "execution_count": 0,
      "outputs": []
    },
    {
      "cell_type": "code",
      "metadata": {
        "id": "fAT4eZH4VlI4",
        "colab_type": "code",
        "colab": {
          "base_uri": "https://localhost:8080/",
          "height": 34
        },
        "outputId": "d68fc106-9b1f-4e7e-eea0-4ef8975b7b6e"
      },
      "source": [
        "add(3,4)"
      ],
      "execution_count": 2,
      "outputs": [
        {
          "output_type": "execute_result",
          "data": {
            "text/plain": [
              "7"
            ]
          },
          "metadata": {
            "tags": []
          },
          "execution_count": 2
        }
      ]
    },
    {
      "cell_type": "code",
      "metadata": {
        "id": "dmU9fpphVn3N",
        "colab_type": "code",
        "colab": {}
      },
      "source": [
        "P = \" abcdefghijklmnopqrstuvwxyz\"\n",
        "C = \" ABCDEFGHIJKLMNOPQRSTUVWXYZ\"\n",
        "KEY=3\n",
        "#p - plaintext\n",
        "def enc(p):\n",
        "    c=\"\"\n",
        "    for x in p:\n",
        "        pi=P.find(x)\n",
        "        ci= (pi+KEY) % 27\n",
        "        c = c + C[ci]\n",
        "    return c\n",
        "\n",
        "def dec(c):\n",
        "    p=\"\"\n",
        "    for x in c:\n",
        "        ci=C.find(x)\n",
        "        pi= (ci-KEY) % 27\n",
        "        p = p + P[pi]\n",
        "    return p"
      ],
      "execution_count": 0,
      "outputs": []
    },
    {
      "cell_type": "code",
      "metadata": {
        "id": "R1KQ4URgVrgr",
        "colab_type": "code",
        "colab": {
          "base_uri": "https://localhost:8080/",
          "height": 34
        },
        "outputId": "2f4596dd-db58-4c9c-c9ac-5aa0195ba42c"
      },
      "source": [
        "enc(\"hello\")"
      ],
      "execution_count": 4,
      "outputs": [
        {
          "output_type": "execute_result",
          "data": {
            "text/plain": [
              "'KHOOR'"
            ]
          },
          "metadata": {
            "tags": []
          },
          "execution_count": 4
        }
      ]
    },
    {
      "cell_type": "code",
      "metadata": {
        "id": "BHGnKcJwVuh0",
        "colab_type": "code",
        "colab": {
          "base_uri": "https://localhost:8080/",
          "height": 34
        },
        "outputId": "962131a9-1d1d-4eae-9734-1417b52a97e7"
      },
      "source": [
        "enc(\"hello dear why are not meeting near sarovar\")"
      ],
      "execution_count": 5,
      "outputs": [
        {
          "output_type": "execute_result",
          "data": {
            "text/plain": [
              "'KHOORCGHDUCZKACDUHCQRWCPHHWLQJCQHDUCVDURYDU'"
            ]
          },
          "metadata": {
            "tags": []
          },
          "execution_count": 5
        }
      ]
    },
    {
      "cell_type": "code",
      "metadata": {
        "id": "jDJNzUJHVxRT",
        "colab_type": "code",
        "colab": {
          "base_uri": "https://localhost:8080/",
          "height": 34
        },
        "outputId": "233b14ed-09a2-4153-cecb-238426f3f656"
      },
      "source": [
        "dec(\"KHOORCGHDUCZKACDUHCQRWCPHHWLQJCQHDUCVDURYDU\")"
      ],
      "execution_count": 6,
      "outputs": [
        {
          "output_type": "execute_result",
          "data": {
            "text/plain": [
              "'hello dear why are not meeting near sarovar'"
            ]
          },
          "metadata": {
            "tags": []
          },
          "execution_count": 6
        }
      ]
    },
    {
      "cell_type": "code",
      "metadata": {
        "id": "4LWdJ67HVzpz",
        "colab_type": "code",
        "colab": {}
      },
      "source": [
        ""
      ],
      "execution_count": 0,
      "outputs": []
    }
  ]
}